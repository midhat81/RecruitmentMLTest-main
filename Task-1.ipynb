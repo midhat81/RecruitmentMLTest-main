{
 "cells": [
  {
   "cell_type": "markdown",
   "metadata": {},
   "source": [
    "Step 1: Data Extraction (using requests, retry, logging)"
   ]
  },
  {
   "cell_type": "code",
   "execution_count": 14,
   "metadata": {},
   "outputs": [
    {
     "name": "stderr",
     "output_type": "stream",
     "text": [
      "2025-05-06 17:47:39,395 - INFO - Success on attempt 1\n"
     ]
    },
    {
     "name": "stdout",
     "output_type": "stream",
     "text": [
      "[\n",
      "  {\n",
      "    \"date\": \"2025-05-01\",\n",
      "    \"ron95\": 2.05,\n",
      "    \"ron97\": 3.18,\n",
      "    \"diesel\": 2.88,\n",
      "    \"series_type\": \"level\",\n",
      "    \"diesel_eastmsia\": 2.15\n",
      "  },\n",
      "  {\n",
      "    \"date\": \"2025-04-24\",\n",
      "    \"ron95\": 2.05,\n",
      "    \"ron97\": 3.18,\n",
      "    \"diesel\": 2.88,\n",
      "    \"series_type\": \"level\",\n",
      "    \"diesel_eastmsia\": 2.15\n",
      "  }\n",
      "]\n"
     ]
    }
   ],
   "source": [
    "import requests\n",
    "import time\n",
    "import logging\n",
    "\n",
    "# Configure logging\n",
    "logging.basicConfig(level=logging.INFO, format='%(asctime)s - %(levelname)s - %(message)s')\n",
    "\n",
    "def fetch_fuel_price_data(url, retries=3, delay=2):\n",
    "    for attempt in range(1, retries + 1):\n",
    "        try:\n",
    "            response = requests.get(url, timeout=10)\n",
    "            response.raise_for_status()\n",
    "            logging.info(f\"Success on attempt {attempt}\")\n",
    "            return response.json()\n",
    "        except requests.exceptions.RequestException as e:\n",
    "            logging.error(f\"Attempt {attempt} failed: {e}\")\n",
    "            if attempt < retries:\n",
    "                time.sleep(delay)\n",
    "            else:\n",
    "                logging.critical(\"All retries failed.\")\n",
    "                return None\n",
    "\n",
    "url = \"https://api.data.gov.my/data-catalogue?id=fuelprice\"\n",
    "data = fetch_fuel_price_data(url)\n",
    "\n",
    "# Display a sample of the data\n",
    "import json\n",
    "print(json.dumps(data[:2], indent=2))  # Print first 2 entries for inspection\n"
   ]
  },
  {
   "cell_type": "markdown",
   "metadata": {},
   "source": [
    "Step 2: Data Transformation"
   ]
  },
  {
   "cell_type": "code",
   "execution_count": 15,
   "metadata": {},
   "outputs": [
    {
     "name": "stdout",
     "output_type": "stream",
     "text": [
      "        Date  RON95_price  RON97_price  Diesel_price series_type  \\\n",
      "1 2025-04-24         2.05         3.18          2.88       level   \n",
      "0 2025-05-01         2.05         3.18          2.88       level   \n",
      "\n",
      "   diesel_eastmsia  RON95_price_diff  RON97_price_diff  RON95_4week_avg  \n",
      "1             2.15               NaN               NaN              NaN  \n",
      "0             2.15               0.0               0.0              NaN  \n"
     ]
    }
   ],
   "source": [
    "import pandas as pd\n",
    "\n",
    "# Example JSON data (you likely loaded this from a file or API)\n",
    "data = [\n",
    "    {\n",
    "        \"date\": \"2025-05-01\",\n",
    "        \"ron95\": 2.05,\n",
    "        \"ron97\": 3.18,\n",
    "        \"diesel\": 2.88,\n",
    "        \"series_type\": \"level\",\n",
    "        \"diesel_eastmsia\": 2.15\n",
    "    },\n",
    "    {\n",
    "        \"date\": \"2025-04-24\",\n",
    "        \"ron95\": 2.05,\n",
    "        \"ron97\": 3.18,\n",
    "        \"diesel\": 2.88,\n",
    "        \"series_type\": \"level\",\n",
    "        \"diesel_eastmsia\": 2.15\n",
    "    },\n",
    "    # ... more records ...\n",
    "]\n",
    "\n",
    "# Load data into DataFrame\n",
    "df = pd.DataFrame(data)\n",
    "\n",
    "# Convert column names to lowercase and strip any extra whitespace\n",
    "df.columns = df.columns.str.strip().str.lower()\n",
    "\n",
    "# Rename columns to desired format\n",
    "df = df.rename(columns={\n",
    "    'ron95': 'RON95_price',\n",
    "    'ron97': 'RON97_price',\n",
    "    'diesel': 'Diesel_price',\n",
    "    'date': 'Date'\n",
    "})\n",
    "\n",
    "# Convert Date column to datetime\n",
    "df['Date'] = pd.to_datetime(df['Date'])\n",
    "\n",
    "# Sort by Date\n",
    "df = df.sort_values('Date')\n",
    "\n",
    "# Calculate weekly price differences\n",
    "df['RON95_price_diff'] = df['RON95_price'].diff()\n",
    "df['RON97_price_diff'] = df['RON97_price'].diff()\n",
    "\n",
    "# 4-week rolling average\n",
    "df['RON95_4week_avg'] = df['RON95_price'].rolling(window=4).mean()\n",
    "\n",
    "# View result\n",
    "print(df.head())\n"
   ]
  },
  {
   "cell_type": "markdown",
   "metadata": {},
   "source": [
    "Step 3: Insight Generation and Visualization"
   ]
  },
  {
   "cell_type": "code",
   "execution_count": 16,
   "metadata": {},
   "outputs": [
    {
     "data": {
      "image/png": "[encoded data removed]",
      "text/plain": [
       "<Figure size 864x432 with 1 Axes>"
      ]
     },
     "metadata": {
      "needs_background": "light"
     },
     "output_type": "display_data"
    },
    {
     "name": "stdout",
     "output_type": "stream",
     "text": [
      "Week with the largest jump in RON95 price:\n",
      "         Date  RON95_price_diff  RON97_price_diff\n",
      "0 2025-05-01               0.0               0.0\n"
     ]
    }
   ],
   "source": [
    "import matplotlib.pyplot as plt\n",
    "\n",
    "# RON95 vs RON97 Over Time\n",
    "plt.figure(figsize=(12, 6))\n",
    "plt.plot(df['Date'], df['RON95_price'], label='RON95', color='blue')\n",
    "plt.plot(df['Date'], df['RON97_price'], label='RON97', color='green')\n",
    "plt.title(\"RON95 vs RON97 Price Trends Over Time\")\n",
    "plt.xlabel(\"Date\")\n",
    "plt.ylabel(\"Price (RM)\")\n",
    "plt.legend()\n",
    "plt.grid(True)\n",
    "plt.tight_layout()\n",
    "plt.show()\n",
    "\n",
    "# Largest jump in RON95 price\n",
    "largest_jump = df[['Date', 'RON95_price_diff', 'RON97_price_diff']].sort_values(\n",
    "    by='RON95_price_diff', ascending=False).head(1)\n",
    "print(\"Week with the largest jump in RON95 price:\\n\", largest_jump)\n"
   ]
  }
 ],
 "metadata": {
  "kernelspec": {
   "display_name": "Python 3",
   "language": "python",
   "name": "python3"
  },
  "language_info": {
   "codemirror_mode": {
    "name": "ipython",
    "version": 3
   },
   "file_extension": ".py",
   "mimetype": "text/x-python",
   "name": "python",
   "nbconvert_exporter": "python",
   "pygments_lexer": "ipython3",
   "version": "3.11.0"
  }
 },
 "nbformat": 4,
 "nbformat_minor": 2
}
